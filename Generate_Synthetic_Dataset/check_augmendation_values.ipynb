{
 "cells": [
  {
   "cell_type": "code",
   "execution_count": 10,
   "metadata": {
    "collapsed": true,
    "pycharm": {
     "name": "#%%\n"
    }
   },
   "outputs": [],
   "source": [
    "import os\n",
    "import random\n",
    "from PIL import Image, ImageEnhance, ImageDraw\n",
    "from IPython.display import display\n",
    "import math\n",
    "import matplotlib.pyplot as plt"
   ]
  },
  {
   "cell_type": "code",
   "execution_count": null,
   "metadata": {
    "collapsed": false,
    "pycharm": {
     "name": "#%%\n"
    }
   },
   "outputs": [],
   "source": [
    "# Define the path to the input image\n",
    "input_path = \"One/sample/paste/image/\"\n",
    "\n",
    "# Load the input image\n",
    "input_image = Image.open(input_path)\n",
    "input_image  # Get a first look!"
   ]
  },
  {
   "cell_type": "code",
   "execution_count": null,
   "outputs": [],
   "source": [
    "# Define the plotting function\n",
    "def plot_image_grid(images, ncols=5, figsize=None):\n",
    "    # According to the maximum number of desired columns compute the total number of rows the grid will contain\n",
    "    nrows = math.ceil(len(images) / ncols)\n",
    "    # Give a default value for the figsize if None is given as input\n",
    "    if not figsize:\n",
    "        figsize = (ncols*3, nrows*3)\n",
    "    # Define the grid plot\n",
    "    fig, axes = plt.subplots(nrows, ncols, figsize=figsize)\n",
    "    # Iterate through each grid subplot\n",
    "    for i, ax in enumerate(axes.flat):\n",
    "        # Check if there are available images to plot in this subplot\n",
    "        if i < len(images):\n",
    "            # Choose the image to plot\n",
    "            img = images[i]\n",
    "            # Make sure the image is in RGB format\n",
    "            if img.mode != 'RGB':\n",
    "                img = img.convert('RGB')\n",
    "            # plot the image in the subplot\n",
    "            ax.imshow(img)\n",
    "        # Turn off the axis values\n",
    "        ax.axis('off')\n",
    "    # Print the completed grid\n",
    "    plt.show()"
   ],
   "metadata": {
    "collapsed": false
   }
  },
  {
   "cell_type": "code",
   "execution_count": null,
   "metadata": {
    "collapsed": false,
    "pycharm": {
     "name": "#%%\n"
    },
    "is_executing": true
   },
   "outputs": [],
   "source": [
    "# BRIGHTNESS\n",
    "\n",
    "# define the total brightness range values\n",
    "brightness_range = [0.5, 2.0]\n",
    "\n",
    "# Compute the discrete values and add them in a list\n",
    "start = brightness_range[0]\n",
    "stop  = brightness_range[1]\n",
    "step  = 0.05\n",
    "iters = int((stop - start) / step) + 1  # because the last isn't counting\n",
    "brightness_factors = [(i*step)+start for i in range(iters)]\n",
    "\n",
    "# Create one image for each factor values\n",
    "enhanced_images = []\n",
    "for brightness_factor in brightness_factors:\n",
    "    brighter_image = ImageEnhance.Brightness(input_image).enhance(brightness_factor)  # Apply the image enhancer\n",
    "    enhanced_images.append(brighter_image)  # Append the produced image"
   ]
  },
  {
   "cell_type": "code",
   "execution_count": null,
   "metadata": {
    "collapsed": false,
    "pycharm": {
     "name": "#%%\n"
    }
   },
   "outputs": [],
   "source": [
    "# Plot a Grid with all the images computed, to visually examine the different brightness factor effects\n",
    "# Apply the grid plotting function for the brightness factors\n",
    "plot_image_grid(enhanced_images, ncols=5)"
   ]
  },
  {
   "cell_type": "code",
   "execution_count": null,
   "metadata": {
    "collapsed": false,
    "pycharm": {
     "name": "#%%\n"
    }
   },
   "outputs": [],
   "source": [
    "# TO DO\n",
    "# Do the same for the other filter kinds of Image Enhance class\n",
    "\n",
    "for i in range(100):\n",
    "    # Define random transformation parameters\n",
    "    rotation_angle    = random.uniform(*rotation_angle_range)\n",
    "    scale_factor      = random.uniform(*scale_factor_range)\n",
    "    brightness_factor = random.uniform(*brightness_factor_range)\n",
    "    color_factor      = random.uniform(*color_factor_range)\n",
    "    contrast_factor   = random.uniform(*contrast_factor_range)\n",
    "    sharp_factor      = random.uniform(*sharp_factor_range)\n",
    "\n",
    "    # Apply the transformations\n",
    "    image = input_image.rotate(rotation_angle, resample=random.choice(resampling_filters), expand=True)\n",
    "    image = image.resize((int(image.width * scale_factor), int(image.height * scale_factor)), resample=random.choice(resampling_filters))\n",
    "    image = ImageEnhance.Brightness(image).enhance(brightness_factor)\n",
    "    image = ImageEnhance.Color     (image).enhance(color_factor     )\n",
    "    image = ImageEnhance.Contrast  (image).enhance(contrast_factor  )\n",
    "    image = ImageEnhance.Sharpness (image).enhance(sharp_factor     )"
   ]
  },
  {
   "cell_type": "code",
   "execution_count": null,
   "metadata": {
    "collapsed": false,
    "pycharm": {
     "name": "#%%\n"
    }
   },
   "outputs": [],
   "source": []
  },
  {
   "cell_type": "code",
   "execution_count": null,
   "metadata": {
    "collapsed": false,
    "pycharm": {
     "name": "#%%\n"
    }
   },
   "outputs": [],
   "source": [
    "# Define the list of resampling filters to try\n",
    "resampling_filters = [\n",
    "    Image.NEAREST,\n",
    "    Image.BOX,\n",
    "    Image.BICUBIC,\n",
    "    Image.LANCZOS,\n",
    "]\n",
    "\n",
    "# Define the ranges of values to try for each transformation parameter\n",
    "rotation_angle_range    = (-90.0, 90.0)\n",
    "scale_factor_range      = (0.8, 1.2)\n",
    "brightness_factor_range = (0.5, 1.5)\n",
    "color_factor_range      = (0.5, 1.2)\n",
    "contrast_factor_range   = (0.5, 0.8)\n",
    "sharp_factor_range      = (-0.8, 1.2)\n",
    "\n",
    "# Load the input image\n",
    "input_image = Image.open(input_path)\n",
    "\n",
    "# Apply random transformations and save the transformed images\n",
    "for i in range(100):\n",
    "    # Define random transformation parameters\n",
    "    rotation_angle    = random.uniform(*rotation_angle_range)\n",
    "    scale_factor      = random.uniform(*scale_factor_range)\n",
    "    brightness_factor = random.uniform(*brightness_factor_range)\n",
    "    color_factor      = random.uniform(*color_factor_range)\n",
    "    contrast_factor   = random.uniform(*contrast_factor_range)\n",
    "    sharp_factor      = random.uniform(*sharp_factor_range)\n",
    "\n",
    "    # Apply the transformations\n",
    "    image = input_image.rotate(rotation_angle, resample=random.choice(resampling_filters), expand=True)\n",
    "    image = image.resize((int(image.width * scale_factor), int(image.height * scale_factor)), resample=random.choice(resampling_filters))\n",
    "    image = ImageEnhance.Brightness(image).enhance(brightness_factor)\n",
    "    image = ImageEnhance.Color     (image).enhance(color_factor     )\n",
    "    image = ImageEnhance.Contrast  (image).enhance(contrast_factor  )\n",
    "    image = ImageEnhance.Sharpness (image).enhance(sharp_factor     )\n",
    "\n",
    "    # Define the output path\n",
    "    output_path = os.path.join(output_dir, f\"transformed_{i}.jpg\")\n",
    "\n",
    "    # Save the transformed image\n",
    "    image.save(output_path)"
   ]
  }
 ],
 "metadata": {
  "kernelspec": {
   "display_name": "Python 3",
   "language": "python",
   "name": "python3"
  },
  "language_info": {
   "codemirror_mode": {
    "name": "ipython",
    "version": 2
   },
   "file_extension": ".py",
   "mimetype": "text/x-python",
   "name": "python",
   "nbconvert_exporter": "python",
   "pygments_lexer": "ipython2",
   "version": "2.7.6"
  }
 },
 "nbformat": 4,
 "nbformat_minor": 0
}
